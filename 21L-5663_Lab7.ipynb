{
 "cells": [
  {
   "cell_type": "markdown",
   "id": "cfbcc48c",
   "metadata": {},
   "source": [
    "# Q1"
   ]
  },
  {
   "cell_type": "code",
   "execution_count": 1,
   "id": "96863ef6",
   "metadata": {},
   "outputs": [],
   "source": [
    "#%%file CountMoreThan5.py\n",
    "\n",
    "#from mrjob.job import MRJob\n",
    "\n",
    "#def map(key, value):\n",
    "   # user_id, timestamp, song_name = parse_log_entry(value)\n",
    "    #date = extract_date(timestamp)\n",
    "\n",
    "    #user_date_key = f\"{user_id}_{date}\"\n",
    "    #yield user_date_key, song_name\n",
    "\n",
    "    #if user_date_key in song_count_dict:\n",
    "       # song_count_dict[user_date_key] += 1\n",
    "    #else:\n",
    "        #song_count_dict[user_date_key] = 1\n",
    "\n",
    "   # if end_of_split:\n",
    "        #for user_date_key, song_count in song_count_dict.items():\n",
    "          #  user_id, date = split_user_date_key(user_date_key)\n",
    "           # user_key = user_id\n",
    "           # yield user_key, song_count"
   ]
  },
  {
   "cell_type": "code",
   "execution_count": 2,
   "id": "0fee33a5",
   "metadata": {},
   "outputs": [
    {
     "name": "stdout",
     "output_type": "stream",
     "text": [
      "Overwriting CountMoreThan5.py\n"
     ]
    }
   ],
   "source": [
    "%%file CountMoreThan5.py\n",
    "\n",
    "from mrjob.job import MRJob\n",
    "\n",
    "class Count(MRJob):\n",
    "    \n",
    "    def mapper(self, _, line):\n",
    "        username, date, songs = line.split(' ')\n",
    "        songs = songs.split(',')\n",
    "        count = len(songs)\n",
    "        if count > 5:\n",
    "            yield (username, count)\n",
    "    \n",
    "if __name__ == '__main__':\n",
    "    Count.run()"
   ]
  },
  {
   "cell_type": "code",
   "execution_count": 3,
   "id": "e2c850ec",
   "metadata": {},
   "outputs": [
    {
     "name": "stderr",
     "output_type": "stream",
     "text": [
      "No configs found; falling back on auto-configuration\n",
      "No configs specified for inline runner\n",
      "Creating temp directory C:\\Users\\ABDULL~1\\AppData\\Local\\Temp\\CountMoreThan5.Abdullah Awan.20230315.143451.906831\n",
      "Running step 1 of 1...\n",
      "job output is in C:\\Users\\ABDULL~1\\AppData\\Local\\Temp\\CountMoreThan5.Abdullah Awan.20230315.143451.906831\\output\n",
      "Streaming final output from C:\\Users\\ABDULL~1\\AppData\\Local\\Temp\\CountMoreThan5.Abdullah Awan.20230315.143451.906831\\output...\n",
      "Removing temp directory C:\\Users\\ABDULL~1\\AppData\\Local\\Temp\\CountMoreThan5.Abdullah Awan.20230315.143451.906831...\n"
     ]
    }
   ],
   "source": [
    "!python CountMoreThan5.py weblog.txt"
   ]
  },
  {
   "cell_type": "code",
   "execution_count": 4,
   "id": "b5d383e7",
   "metadata": {},
   "outputs": [],
   "source": [
    "#This gives No output because no one have played song more than 5 times"
   ]
  },
  {
   "cell_type": "markdown",
   "id": "dbb02931",
   "metadata": {},
   "source": [
    "# Q2"
   ]
  },
  {
   "cell_type": "code",
   "execution_count": 5,
   "id": "f3eff92d",
   "metadata": {},
   "outputs": [
    {
     "name": "stdout",
     "output_type": "stream",
     "text": [
      "Overwriting Details.py\n"
     ]
    }
   ],
   "source": [
    "%%file Details.py\n",
    "\n",
    "from mrjob.job import MRJob\n",
    "\n",
    "class UserDetail(MRJob):\n",
    "    \n",
    "    def mapper(self, _, line):\n",
    "        username, date, songs = line.split(' ')\n",
    "        count = len(songs.split(','))\n",
    "        yield (username, date), count\n",
    "        \n",
    "if __name__ == '__main__':\n",
    "    UserDetail.run()\n"
   ]
  },
  {
   "cell_type": "code",
   "execution_count": 6,
   "id": "c4f3f96a",
   "metadata": {},
   "outputs": [
    {
     "name": "stdout",
     "output_type": "stream",
     "text": [
      "[\"Ali\", \"12-3-20\"]\t3\n",
      "[\"Fahad\", \"14-04-22\"]\t4\n",
      "[\"Ali\", \"20-4-22\"]\t2\n",
      "[\"Sara\", \"20-4-22\"]\t3\n",
      "[\"Amina\", \"20-4-22\"]\t1\n"
     ]
    },
    {
     "name": "stderr",
     "output_type": "stream",
     "text": [
      "No configs found; falling back on auto-configuration\n",
      "No configs specified for inline runner\n",
      "Creating temp directory C:\\Users\\ABDULL~1\\AppData\\Local\\Temp\\Details.Abdullah Awan.20230315.143452.947086\n",
      "Running step 1 of 1...\n",
      "job output is in C:\\Users\\ABDULL~1\\AppData\\Local\\Temp\\Details.Abdullah Awan.20230315.143452.947086\\output\n",
      "Streaming final output from C:\\Users\\ABDULL~1\\AppData\\Local\\Temp\\Details.Abdullah Awan.20230315.143452.947086\\output...\n",
      "Removing temp directory C:\\Users\\ABDULL~1\\AppData\\Local\\Temp\\Details.Abdullah Awan.20230315.143452.947086...\n"
     ]
    }
   ],
   "source": [
    "!python Details.py weblog.txt\n"
   ]
  },
  {
   "cell_type": "markdown",
   "id": "7829f6e4",
   "metadata": {},
   "source": [
    "# Q3"
   ]
  },
  {
   "cell_type": "code",
   "execution_count": 7,
   "id": "df124279",
   "metadata": {},
   "outputs": [
    {
     "name": "stdout",
     "output_type": "stream",
     "text": [
      "Overwriting TotalCount.py\n"
     ]
    }
   ],
   "source": [
    "%%file TotalCount.py\n",
    "\n",
    "from mrjob.job import MRJob\n",
    "\n",
    "class SongCountOfUser(MRJob):\n",
    "    def mapper(self, _, line):\n",
    "        username, date, songs = line.split(' ')\n",
    "        songs = songs.split(',')\n",
    "        yield username, len(songs)\n",
    "    \n",
    "    def combiner(self, username, count):\n",
    "        Songcount = 0\n",
    "        for i in count:\n",
    "            Songcount += i\n",
    "        yield username, Songcount\n",
    "    \n",
    "    def reducer(self, username, count):\n",
    "        Songcount = sum(count)\n",
    "        yield username, Songcount\n",
    "\n",
    "if __name__ == '__main__':\n",
    "    SongCountOfUser.run()\n"
   ]
  },
  {
   "cell_type": "code",
   "execution_count": 8,
   "id": "79406c94",
   "metadata": {},
   "outputs": [
    {
     "name": "stdout",
     "output_type": "stream",
     "text": [
      "\"Ali\"\t5\n",
      "\"Amina\"\t1\n",
      "\"Fahad\"\t4\n",
      "\"Sara\"\t3\n"
     ]
    },
    {
     "name": "stderr",
     "output_type": "stream",
     "text": [
      "No configs found; falling back on auto-configuration\n",
      "No configs specified for inline runner\n",
      "Creating temp directory C:\\Users\\ABDULL~1\\AppData\\Local\\Temp\\TotalCount.Abdullah Awan.20230315.143453.916704\n",
      "Running step 1 of 1...\n",
      "job output is in C:\\Users\\ABDULL~1\\AppData\\Local\\Temp\\TotalCount.Abdullah Awan.20230315.143453.916704\\output\n",
      "Streaming final output from C:\\Users\\ABDULL~1\\AppData\\Local\\Temp\\TotalCount.Abdullah Awan.20230315.143453.916704\\output...\n",
      "Removing temp directory C:\\Users\\ABDULL~1\\AppData\\Local\\Temp\\TotalCount.Abdullah Awan.20230315.143453.916704...\n"
     ]
    }
   ],
   "source": [
    "!python TotalCount.py weblog.txt"
   ]
  },
  {
   "cell_type": "markdown",
   "id": "95d2855f",
   "metadata": {},
   "source": [
    "# Q4"
   ]
  },
  {
   "cell_type": "code",
   "execution_count": 9,
   "id": "6cf5359f",
   "metadata": {
    "scrolled": true
   },
   "outputs": [
    {
     "name": "stdout",
     "output_type": "stream",
     "text": [
      "Overwriting SongsAvg.py\n"
     ]
    }
   ],
   "source": [
    "%%file SongsAvg.py\n",
    "\n",
    "from mrjob.job import MRJob\n",
    "\n",
    "class Average(MRJob):\n",
    "    \n",
    "    def mapper(self, _, line):\n",
    "        username, date, songs = line.strip().split(' ')\n",
    "        songs = songs.split(',')\n",
    "        yield date, len(songs)\n",
    "\n",
    "    def combiner(self, date, counts):\n",
    "        TotalSum = 0\n",
    "        count = 0\n",
    "        for i in counts:\n",
    "            TotalSum = TotalSum + i\n",
    "            count = count + 1\n",
    "        yield date, (TotalSum, count)\n",
    "\n",
    "    def reducer(self, date, Songcount):\n",
    "        TotalSum = 0\n",
    "        count = 0\n",
    "        for i, j in Songcount:\n",
    "            TotalSum = TotalSum + i\n",
    "            count = count + j\n",
    "        yield date, TotalSum/count\n",
    "\n",
    "if __name__ == '__main__':\n",
    "    Average.run()"
   ]
  },
  {
   "cell_type": "code",
   "execution_count": 10,
   "id": "f9917c0c",
   "metadata": {},
   "outputs": [
    {
     "name": "stdout",
     "output_type": "stream",
     "text": [
      "\"12-3-20\"\t3.0\n",
      "\"14-04-22\"\t4.0\n",
      "\"20-4-22\"\t2.0\n"
     ]
    },
    {
     "name": "stderr",
     "output_type": "stream",
     "text": [
      "No configs found; falling back on auto-configuration\n",
      "No configs specified for inline runner\n",
      "Creating temp directory C:\\Users\\ABDULL~1\\AppData\\Local\\Temp\\SongsAvg.Abdullah Awan.20230315.143455.661913\n",
      "Running step 1 of 1...\n",
      "job output is in C:\\Users\\ABDULL~1\\AppData\\Local\\Temp\\SongsAvg.Abdullah Awan.20230315.143455.661913\\output\n",
      "Streaming final output from C:\\Users\\ABDULL~1\\AppData\\Local\\Temp\\SongsAvg.Abdullah Awan.20230315.143455.661913\\output...\n",
      "Removing temp directory C:\\Users\\ABDULL~1\\AppData\\Local\\Temp\\SongsAvg.Abdullah Awan.20230315.143455.661913...\n"
     ]
    }
   ],
   "source": [
    "!python SongsAvg.py weblog.txt"
   ]
  },
  {
   "cell_type": "markdown",
   "id": "824195bb",
   "metadata": {},
   "source": [
    "# Q5"
   ]
  },
  {
   "cell_type": "code",
   "execution_count": 11,
   "id": "f8abb621",
   "metadata": {},
   "outputs": [
    {
     "name": "stdout",
     "output_type": "stream",
     "text": [
      "Overwriting TimesPlayed.py\n"
     ]
    }
   ],
   "source": [
    "%%file TimesPlayed.py\n",
    "\n",
    "from mrjob.job import MRJob\n",
    "from mrjob.step import MRStep\n",
    "\n",
    "class NumberOfTimesPlayed(MRJob):\n",
    "\n",
    "    def mapper(self, _, line):\n",
    "        user, date, songs = line.split()\n",
    "        for song in songs.split(','):\n",
    "            yield song, 1\n",
    "\n",
    "    def combiner(self, song, counts):\n",
    "        yield song, sum(counts)\n",
    "\n",
    "    def reducer(self, song, counts):\n",
    "        yield song, sum(counts)\n",
    "\n",
    "if __name__ == '__main__':\n",
    "    NumberOfTimesPlayed.run()\n"
   ]
  },
  {
   "cell_type": "code",
   "execution_count": 12,
   "id": "58aa88b1",
   "metadata": {},
   "outputs": [
    {
     "name": "stdout",
     "output_type": "stream",
     "text": [
      "\"S1\"\t5\n",
      "\"S2\"\t3\n",
      "\"S3\"\t2\n",
      "\"S7\"\t2\n",
      "\"S9\"\t1\n"
     ]
    },
    {
     "name": "stderr",
     "output_type": "stream",
     "text": [
      "No configs found; falling back on auto-configuration\n",
      "No configs specified for inline runner\n",
      "Creating temp directory C:\\Users\\ABDULL~1\\AppData\\Local\\Temp\\TimesPlayed.Abdullah Awan.20230315.143456.766023\n",
      "Running step 1 of 1...\n",
      "job output is in C:\\Users\\ABDULL~1\\AppData\\Local\\Temp\\TimesPlayed.Abdullah Awan.20230315.143456.766023\\output\n",
      "Streaming final output from C:\\Users\\ABDULL~1\\AppData\\Local\\Temp\\TimesPlayed.Abdullah Awan.20230315.143456.766023\\output...\n",
      "Removing temp directory C:\\Users\\ABDULL~1\\AppData\\Local\\Temp\\TimesPlayed.Abdullah Awan.20230315.143456.766023...\n"
     ]
    }
   ],
   "source": [
    "!python TimesPlayed.py weblog.txt"
   ]
  },
  {
   "cell_type": "markdown",
   "id": "be711650",
   "metadata": {},
   "source": [
    "# Q6"
   ]
  },
  {
   "cell_type": "code",
   "execution_count": 13,
   "id": "4af2e0b4",
   "metadata": {},
   "outputs": [
    {
     "name": "stdout",
     "output_type": "stream",
     "text": [
      "Overwriting MaxCount.py\n"
     ]
    }
   ],
   "source": [
    "%%file MaxCount.py\n",
    "\n",
    "from mrjob.job import MRJob\n",
    "from mrjob.step import MRStep\n",
    "\n",
    "class maxplay(MRJob):\n",
    "    \n",
    "    def mapper(self, _, line):\n",
    "        username, date, songs = line.split(' ')\n",
    "        yield (username, date), len(songs.split(','))\n",
    "        \n",
    "    def combiner(self, key, values):\n",
    "        yield key, sum(values)\n",
    "    \n",
    "    def reducer(self, key, values):\n",
    "        yield key[1], (key[0], sum(values))\n",
    "        \n",
    "    def reducer_find_max(self, date, TotalCount):\n",
    "        MaxSongCount = 0\n",
    "        MaxUserCount = []\n",
    "        for i, j in TotalCount:\n",
    "            if j > MaxSongCount:\n",
    "                MaxSongCount = j\n",
    "                MaxUserCount = [i]\n",
    "            elif j == MaxSongCount:\n",
    "                MaxUserCount.append(i)\n",
    "        yield date, MaxUserCount\n",
    "    \n",
    "    def steps(self):\n",
    "        return [\n",
    "            MRStep(mapper=self.mapper,\n",
    "                   combiner=self.combiner,\n",
    "                   reducer=self.reducer),\n",
    "            MRStep(reducer=self.reducer_find_max)\n",
    "        ]\n",
    "\n",
    "if __name__ == '__main__':\n",
    "    maxplay.run()"
   ]
  },
  {
   "cell_type": "code",
   "execution_count": 14,
   "id": "ca7203ac",
   "metadata": {},
   "outputs": [
    {
     "name": "stdout",
     "output_type": "stream",
     "text": [
      "\"12-3-20\"\t[\"Ali\"]\n",
      "\"14-04-22\"\t[\"Fahad\"]\n",
      "\"20-4-22\"\t[\"Sara\"]\n"
     ]
    },
    {
     "name": "stderr",
     "output_type": "stream",
     "text": [
      "No configs found; falling back on auto-configuration\n",
      "No configs specified for inline runner\n",
      "Creating temp directory C:\\Users\\ABDULL~1\\AppData\\Local\\Temp\\MaxCount.Abdullah Awan.20230315.143457.745998\n",
      "Running step 1 of 2...\n",
      "Running step 2 of 2...\n",
      "job output is in C:\\Users\\ABDULL~1\\AppData\\Local\\Temp\\MaxCount.Abdullah Awan.20230315.143457.745998\\output\n",
      "Streaming final output from C:\\Users\\ABDULL~1\\AppData\\Local\\Temp\\MaxCount.Abdullah Awan.20230315.143457.745998\\output...\n",
      "Removing temp directory C:\\Users\\ABDULL~1\\AppData\\Local\\Temp\\MaxCount.Abdullah Awan.20230315.143457.745998...\n"
     ]
    }
   ],
   "source": [
    "!python MaxCount.py weblog.txt"
   ]
  },
  {
   "cell_type": "markdown",
   "id": "89cce84e",
   "metadata": {},
   "source": [
    "# Q7"
   ]
  },
  {
   "cell_type": "code",
   "execution_count": 15,
   "id": "586db0f0",
   "metadata": {},
   "outputs": [
    {
     "name": "stdout",
     "output_type": "stream",
     "text": [
      "Overwriting MaxCountUser.py\n"
     ]
    }
   ],
   "source": [
    "%%file MaxCountUser.py\n",
    "\n",
    "from mrjob.job import MRJob\n",
    "from mrjob.step import MRStep\n",
    "\n",
    "class MaxTimesOfUser(MRJob):\n",
    "    \n",
    "    def mapper(self, _, line):\n",
    "        user, date, songs = line.split(' ')\n",
    "        yield user, len(songs.split(','))\n",
    "    \n",
    "    def combiner(self, user, Songcount):\n",
    "        yield user, sum(Songcount)\n",
    "    \n",
    "    def reducer(self, user, Songcount):\n",
    "        yield None,(sum(Songcount), user)\n",
    "        \n",
    "    def MaxSongReducer(self, _, TotalCount):\n",
    "        MaxSongCount, users = max(TotalCount)\n",
    "        yield users, MaxSongCount \n",
    "        \n",
    "    def steps(self):\n",
    "        return [\n",
    "            MRStep(mapper=self.mapper, combiner=self.combiner, reducer=self.reducer),\n",
    "            MRStep(reducer=self.MaxSongReducer)\n",
    "        ]\n",
    "\n",
    "if __name__ == '__main__':\n",
    "    MaxTimesOfUser.run()\n"
   ]
  },
  {
   "cell_type": "code",
   "execution_count": 16,
   "id": "0d4fd90d",
   "metadata": {},
   "outputs": [
    {
     "name": "stdout",
     "output_type": "stream",
     "text": [
      "\"Ali\"\t5\n"
     ]
    },
    {
     "name": "stderr",
     "output_type": "stream",
     "text": [
      "No configs found; falling back on auto-configuration\n",
      "No configs specified for inline runner\n",
      "Creating temp directory C:\\Users\\ABDULL~1\\AppData\\Local\\Temp\\MaxCountUser.Abdullah Awan.20230315.143459.016326\n",
      "Running step 1 of 2...\n",
      "Running step 2 of 2...\n",
      "job output is in C:\\Users\\ABDULL~1\\AppData\\Local\\Temp\\MaxCountUser.Abdullah Awan.20230315.143459.016326\\output\n",
      "Streaming final output from C:\\Users\\ABDULL~1\\AppData\\Local\\Temp\\MaxCountUser.Abdullah Awan.20230315.143459.016326\\output...\n",
      "Removing temp directory C:\\Users\\ABDULL~1\\AppData\\Local\\Temp\\MaxCountUser.Abdullah Awan.20230315.143459.016326...\n"
     ]
    }
   ],
   "source": [
    "!python MaxCountUser.py weblog.txt"
   ]
  },
  {
   "cell_type": "markdown",
   "id": "4f3a6448",
   "metadata": {},
   "source": [
    "# Q8"
   ]
  },
  {
   "cell_type": "code",
   "execution_count": 17,
   "id": "bef937a1",
   "metadata": {},
   "outputs": [
    {
     "name": "stdout",
     "output_type": "stream",
     "text": [
      "Overwriting MaxCountInDay.py\n"
     ]
    }
   ],
   "source": [
    "%%file MaxCountInDay.py\n",
    "\n",
    "from mrjob.job import MRJob\n",
    "from mrjob.step import MRStep\n",
    "\n",
    "class MaxInDay(MRJob):\n",
    "    \n",
    "    def mapper(self, _, line):\n",
    "        username, date, songs = line.split(' ')\n",
    "        yield (username, date), len(songs.split(','))\n",
    "        \n",
    "    def combiner(self, key, values):\n",
    "        yield key, sum(values)\n",
    "    \n",
    "    def reducer(self, key, values):\n",
    "        yield key[1], (key[0], sum(values))\n",
    "        \n",
    "    def MaxSongReducer(self, date, TotalCount):\n",
    "        MaxSongCount = 0\n",
    "        MaxUserCount = []\n",
    "        for i, j in TotalCount:\n",
    "            if j > MaxSongCount:\n",
    "                MaxSongCount = j\n",
    "                MaxUserCount = [i]\n",
    "            elif j == MaxSongCount:\n",
    "                MaxUserCount.append(i)\n",
    "        yield date, MaxUserCount\n",
    "    \n",
    "    def steps(self):\n",
    "        return [\n",
    "            MRStep(mapper=self.mapper, combiner=self.combiner, reducer=self.reducer),\n",
    "            MRStep(reducer=self.MaxSongReducer)\n",
    "        ]\n",
    "\n",
    "if __name__ == '__main__':\n",
    "    MaxInDay.run()\n"
   ]
  },
  {
   "cell_type": "code",
   "execution_count": 18,
   "id": "23a9cf61",
   "metadata": {},
   "outputs": [
    {
     "name": "stdout",
     "output_type": "stream",
     "text": [
      "\"12-3-20\"\t[\"Ali\"]\n",
      "\"14-04-22\"\t[\"Fahad\"]\n",
      "\"20-4-22\"\t[\"Sara\"]\n"
     ]
    },
    {
     "name": "stderr",
     "output_type": "stream",
     "text": [
      "No configs found; falling back on auto-configuration\n",
      "No configs specified for inline runner\n",
      "Creating temp directory C:\\Users\\ABDULL~1\\AppData\\Local\\Temp\\MaxCountInDay.Abdullah Awan.20230315.143500.316690\n",
      "Running step 1 of 2...\n",
      "Running step 2 of 2...\n",
      "job output is in C:\\Users\\ABDULL~1\\AppData\\Local\\Temp\\MaxCountInDay.Abdullah Awan.20230315.143500.316690\\output\n",
      "Streaming final output from C:\\Users\\ABDULL~1\\AppData\\Local\\Temp\\MaxCountInDay.Abdullah Awan.20230315.143500.316690\\output...\n",
      "Removing temp directory C:\\Users\\ABDULL~1\\AppData\\Local\\Temp\\MaxCountInDay.Abdullah Awan.20230315.143500.316690...\n"
     ]
    }
   ],
   "source": [
    "!python MaxCountInDay.py weblog.txt"
   ]
  }
 ],
 "metadata": {
  "kernelspec": {
   "display_name": "Python 3 (ipykernel)",
   "language": "python",
   "name": "python3"
  },
  "language_info": {
   "codemirror_mode": {
    "name": "ipython",
    "version": 3
   },
   "file_extension": ".py",
   "mimetype": "text/x-python",
   "name": "python",
   "nbconvert_exporter": "python",
   "pygments_lexer": "ipython3",
   "version": "3.10.7"
  }
 },
 "nbformat": 4,
 "nbformat_minor": 5
}
